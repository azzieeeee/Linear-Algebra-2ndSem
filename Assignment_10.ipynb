{
  "nbformat": 4,
  "nbformat_minor": 0,
  "metadata": {
    "colab": {
      "name": "Assignment 10",
      "provenance": [],
      "authorship_tag": "ABX9TyPwuqV9n4nquOzLUuqGV6Dy",
      "include_colab_link": true
    },
    "kernelspec": {
      "name": "python3",
      "display_name": "Python 3"
    },
    "language_info": {
      "name": "python"
    }
  },
  "cells": [
    {
      "cell_type": "markdown",
      "metadata": {
        "id": "view-in-github",
        "colab_type": "text"
      },
      "source": [
        "<a href=\"https://colab.research.google.com/github/azzieeeee/Linear-Algebra-2ndSem/blob/main/Assignment_10.ipynb\" target=\"_parent\"><img src=\"https://colab.research.google.com/assets/colab-badge.svg\" alt=\"Open In Colab\"/></a>"
      ]
    },
    {
      "cell_type": "markdown",
      "source": [
        "# Linear Algebra for ECE\n",
        "## Laboratory 10 : Linear Combination and Vector Spaces"
      ],
      "metadata": {
        "id": "jgFSDUMb-63I"
      }
    },
    {
      "cell_type": "markdown",
      "source": [
        "Now that you have a fundamental knowledge about linear combination, we'll try to visualize it using scientific programming."
      ],
      "metadata": {
        "id": "bS49T_97-_mb"
      }
    },
    {
      "cell_type": "markdown",
      "source": [
        "### Objectives\n",
        "At the end of this activity you will be able to:\n",
        "1. Be familiar with representing linear combinations in the 2-dimensional plane.\n",
        "2. Visualize spans using vector fields in Python.\n",
        "3. Perform vector fields operations using scientific programming."
      ],
      "metadata": {
        "id": "ds6sdTj5_Caj"
      }
    },
    {
      "cell_type": "markdown",
      "source": [
        "## Discussion"
      ],
      "metadata": {
        "id": "zcbt5WkX_HU3"
      }
    },
    {
      "cell_type": "code",
      "source": [
        "import numpy as np\n",
        "import matplotlib.pyplot as plt\n",
        "%matplotlib inline"
      ],
      "metadata": {
        "id": "BwfKWefw_H-1"
      },
      "execution_count": null,
      "outputs": []
    },
    {
      "cell_type": "markdown",
      "source": [
        "## Linear Combination"
      ],
      "metadata": {
        "id": "sSflwaXY_Sgl"
      }
    },
    {
      "cell_type": "markdown",
      "source": [
        "It is said that a linear combination is the combination of linear scaling and addition of a vector its bases/components"
      ],
      "metadata": {
        "id": "NFPPoTpT_LOZ"
      }
    },
    {
      "cell_type": "markdown",
      "source": [
        "We will try to visualize the vectors and their linear combinations by plotting a sample of real number values for the scalars for the vectors. Let's first try the vectors below:"
      ],
      "metadata": {
        "id": "q1wkUQFO_TM9"
      }
    },
    {
      "cell_type": "markdown",
      "source": [
        "$$O = \\begin{bmatrix} 2\\\\9 \\\\\\end{bmatrix} , K = \\begin{bmatrix} 1\\\\6 \\\\\\end{bmatrix} $$"
      ],
      "metadata": {
        "id": "r1TQwNV2_XgR"
      }
    },
    {
      "cell_type": "code",
      "source": [
        "vectO =  np.array([2,9])\n",
        "vectK =  np.array([1,6])"
      ],
      "metadata": {
        "id": "uV1huWnO_jQn"
      },
      "execution_count": null,
      "outputs": []
    },
    {
      "cell_type": "markdown",
      "source": [
        "#### Span of single vectors"
      ],
      "metadata": {
        "id": "IbcKt4_x_qH4"
      }
    },
    {
      "cell_type": "markdown",
      "source": [
        "As discussed in the lecture, the span of individual vectors can be represented by a line span. Let's take vector $X$ as an example."
      ],
      "metadata": {
        "id": "akHKt8F5_tGy"
      }
    },
    {
      "cell_type": "markdown",
      "source": [
        "$$O = c\\cdot \\begin{bmatrix} 2\\\\9 \\\\\\end{bmatrix} $$"
      ],
      "metadata": {
        "id": "aAT6ARQ1_w2O"
      }
    },
    {
      "cell_type": "code",
      "source": [
        "c = np.arange(-10,10,0.125)\n",
        "\n",
        "plt.scatter(c*vectO[0],c*vectO[1])\n",
        "\n",
        "plt.xlim(-10,10)\n",
        "plt.ylim(-10,10)\n",
        "plt.axhline(y=0, color='k')\n",
        "plt.axvline(x=0, color='k')\n",
        "plt.grid()\n",
        "plt.show()"
      ],
      "metadata": {
        "colab": {
          "base_uri": "https://localhost:8080/",
          "height": 269
        },
        "id": "84z9HjKp_pp0",
        "outputId": "03c7033f-f19f-4914-f228-ee9972a62b51"
      },
      "execution_count": null,
      "outputs": [
        {
          "output_type": "display_data",
          "data": {
            "text/plain": [
              "<Figure size 432x288 with 1 Axes>"
            ],
            "image/png": "[encoded data removed]"
          },
          "metadata": {
            "needs_background": "light"
          }
        }
      ]
    },
    {
      "cell_type": "markdown",
      "source": [
        "$$K = c\\cdot \\begin{bmatrix} 1\\\\6 \\\\\\end{bmatrix} $$"
      ],
      "metadata": {
        "id": "aHNZsSIaAFy0"
      }
    },
    {
      "cell_type": "code",
      "source": [
        "c = np.arange(-15,15,0.5)\n",
        "\n",
        "plt.scatter(c*vectK[0],c*vectK[1])\n",
        "\n",
        "plt.xlim(-20,20)\n",
        "plt.ylim(-20,20)\n",
        "plt.axhline(y=0, color='k')\n",
        "plt.axvline(x=0, color='k')\n",
        "plt.grid()\n",
        "plt.show()"
      ],
      "metadata": {
        "colab": {
          "base_uri": "https://localhost:8080/",
          "height": 269
        },
        "id": "uwJw0pKXAKcO",
        "outputId": "c3a9f557-5757-4956-e0ef-8cc1bb7f2086"
      },
      "execution_count": null,
      "outputs": [
        {
          "output_type": "display_data",
          "data": {
            "text/plain": [
              "<Figure size 432x288 with 1 Axes>"
            ],
            "image/png": "[encoded data removed]"
          },
          "metadata": {
            "needs_background": "light"
          }
        }
      ]
    },
    {
      "cell_type": "markdown",
      "source": [
        "### Span of a linear combination of vectors"
      ],
      "metadata": {
        "id": "cr_ntl4DAS0L"
      }
    },
    {
      "cell_type": "markdown",
      "source": [
        "So what if we are to plot the span of a linear combination of vectors? We can visualize as a plane on the 2-dimensional coordinate system. Let's take the span of the linear combination below:"
      ],
      "metadata": {
        "id": "TQLY6LE7AU5t"
      }
    },
    {
      "cell_type": "markdown",
      "source": [
        "$$S = \\begin{Bmatrix} c_1 \\cdot\\begin{bmatrix} 2\\\\1 \\\\\\end{bmatrix}, \n",
        "c_2 \\cdot \\begin{bmatrix} 4\\\\-2 \\\\\\end{bmatrix}\\end{Bmatrix} $$"
      ],
      "metadata": {
        "id": "d8gZ01HNAXMm"
      }
    },
    {
      "cell_type": "code",
      "source": [
        "vectI = np.array([2,1])\n",
        "vectT = np.array([4,-2])\n",
        "\n",
        "R = np.arange(-10,10,1)\n",
        "\n",
        "c1, c2 = np.meshgrid(R,R)\n",
        "\n",
        "vectR = vectI + vectT\n",
        "spanRx = c1*vectI[0] + c2*vectT[0]\n",
        "spanRy = c1*vectI[1] + c2*vectT[1]\n",
        "##plt.scatter(R*vectA[0],R*vectA[1])\n",
        "##plt.scatter(R*vectB[0],R*vectB[1])\n",
        "plt.scatter(spanRx,spanRy, s=5, alpha=0.75)\n",
        "\n",
        "plt.axhline(y=0, color='k')\n",
        "plt.axvline(x=0, color='k')\n",
        "plt.grid()\n",
        "plt.show()"
      ],
      "metadata": {
        "colab": {
          "base_uri": "https://localhost:8080/",
          "height": 265
        },
        "id": "R4MY6L27AkJ5",
        "outputId": "38b7ac76-782e-468d-94c5-b0dfdd631819"
      },
      "execution_count": null,
      "outputs": [
        {
          "output_type": "display_data",
          "data": {
            "text/plain": [
              "<Figure size 432x288 with 1 Axes>"
            ],
            "image/png": "[encoded data removed]"
          },
          "metadata": {
            "needs_background": "light"
          }
        }
      ]
    },
    {
      "cell_type": "code",
      "source": [
        "vectB = np.array([4,1])\n",
        "vectE = np.array([7,3])\n",
        "\n",
        "R = np.arange(-10,10,1)\n",
        "\n",
        "c1, c2 = np.meshgrid(R,R)\n",
        "\n",
        "vectR = vectB + vectE\n",
        "spanRx = c1*vectB[0] + c2*vectB[0]\n",
        "spanRy = c1*vectB[1] + c2*vectE[1]\n",
        "##plt.scatter(R*vectA[0],R*vectA[1])\n",
        "##plt.scatter(R*vectB[0],R*vectB[1])\n",
        "plt.scatter(spanRx,spanRy, s=5, alpha=0.75)\n",
        "\n",
        "plt.axhline(y=0, color='k')\n",
        "plt.axvline(x=0, color='k')\n",
        "plt.grid()\n",
        "plt.show()"
      ],
      "metadata": {
        "colab": {
          "base_uri": "https://localhost:8080/",
          "height": 265
        },
        "id": "5DgHumkoA6Q-",
        "outputId": "47b94247-24f9-4859-f8d9-9999cbf9bcc3"
      },
      "execution_count": null,
      "outputs": [
        {
          "output_type": "display_data",
          "data": {
            "text/plain": [
              "<Figure size 432x288 with 1 Axes>"
            ],
            "image/png": "[encoded data removed]"
          },
          "metadata": {
            "needs_background": "light"
          }
        }
      ]
    },
    {
      "cell_type": "markdown",
      "source": [
        "Take note that if vectors are seen to be as a 2-dimensional span we can say it has a Rank of 2 or $\\mathbb{R}^2$. But if the span of the linear combination of vectors are seen to be like a line, they are said to be <b> linearly dependent </b> and they have a rank of 1 or $\\mathbb{R}^1$."
      ],
      "metadata": {
        "id": "uWlgRxLZBQ_c"
      }
    },
    {
      "cell_type": "markdown",
      "source": [
        "# Activity"
      ],
      "metadata": {
        "id": "4FOgiMQBBUc6"
      }
    },
    {
      "cell_type": "markdown",
      "source": [
        "Try different linear combinations using different scalar values. In your methodology discuss the different functions that you have used, the  linear equation and vector form of the linear combination, and the flowchart for declaring and displaying linear combinations. Please make sure that your flowchart has only few words and not putting the entire code as it is bad practice. In your results, display and discuss the linear combination visualization you made. You should use the cells below for displaying the equation markdows using LaTeX and your code."
      ],
      "metadata": {
        "id": "UU5ksVJdBWsI"
      }
    },
    {
      "cell_type": "markdown",
      "source": [
        "$$ K = 2{x} + 1{y} \\\\\n",
        "M = -1{x} - 4{y}$$"
      ],
      "metadata": {
        "id": "_EXS1FlZBZBh"
      }
    },
    {
      "cell_type": "markdown",
      "source": [
        "$$ K = \\begin{bmatrix} 2 \\\\ 1\\end{bmatrix} , M = \\begin{bmatrix} -1 \\\\ -4\\end{bmatrix} \n",
        "$$"
      ],
      "metadata": {
        "id": "u-BA17BkBayt"
      }
    },
    {
      "cell_type": "markdown",
      "source": [
        "$$X_K = c\\cdot \\begin{bmatrix} 2\\\\1 \\\\\\end{bmatrix} $$"
      ],
      "metadata": {
        "id": "kfeFgmcCC5Zj"
      }
    },
    {
      "cell_type": "markdown",
      "source": [
        "$$X_M = c\\cdot \\begin{bmatrix} -1\\\\-4 \\\\\\end{bmatrix} $$"
      ],
      "metadata": {
        "id": "w3-LPQXcDU4N"
      }
    },
    {
      "cell_type": "code",
      "source": [
        "vectK = np.array([2,1])\n",
        "vectM = np.array([-1,-4])\n",
        "\n",
        "c = np.arange(-10,10,0.5)\n",
        "\n",
        "plt.scatter(R*vectK[0],R*vectK[1])\n",
        "plt.xlim(-20,20)\n",
        "plt.ylim(-20,20)\n",
        "plt.axhline(y=0, color='violet')\n",
        "plt.axvline(x=0, color='blue')\n",
        "plt.grid()\n",
        "plt.show()"
      ],
      "metadata": {
        "id": "36gtjN76BcKo",
        "colab": {
          "base_uri": "https://localhost:8080/",
          "height": 269
        },
        "outputId": "fa1eca75-0780-4c80-934d-8269cbc13bfc"
      },
      "execution_count": 9,
      "outputs": [
        {
          "output_type": "display_data",
          "data": {
            "text/plain": [
              "<Figure size 432x288 with 1 Axes>"
            ],
            "image/png": "[encoded data removed]"
          },
          "metadata": {
            "needs_background": "light"
          }
        }
      ]
    },
    {
      "cell_type": "code",
      "source": [
        "vectK = np.array([2,1])\n",
        "vectM = np.array([-1,-4])\n",
        "\n",
        "c = np.arange(-30,10,0.5)\n",
        "\n",
        "plt.scatter(R*vectM[0],R*vectM[1])\n",
        "plt.xlim(-40,40)\n",
        "plt.ylim(-40,40)\n",
        "plt.axhline(y=0, color='violet')\n",
        "plt.axvline(x=0, color='blue')\n",
        "plt.grid()\n",
        "plt.show()"
      ],
      "metadata": {
        "colab": {
          "base_uri": "https://localhost:8080/",
          "height": 269
        },
        "id": "eezfGdrVFtZp",
        "outputId": "854e3374-a525-46bb-8bf9-530b94d9194d"
      },
      "execution_count": 10,
      "outputs": [
        {
          "output_type": "display_data",
          "data": {
            "text/plain": [
              "<Figure size 432x288 with 1 Axes>"
            ],
            "image/png": "[encoded data removed]"
          },
          "metadata": {
            "needs_background": "light"
          }
        }
      ]
    },
    {
      "cell_type": "markdown",
      "source": [
        "$$ R = -8{x} + 3{y} \\\\\n",
        "P = 5{x} - 7{y}$$"
      ],
      "metadata": {
        "id": "6xsbdePfGYMP"
      }
    },
    {
      "cell_type": "markdown",
      "source": [
        "$$S = \\begin{Bmatrix} c_1 \\cdot\\begin{bmatrix} -8\\\\3 \\\\\\end{bmatrix}, \n",
        "c_2 \\cdot \\begin{bmatrix} 5\\\\-7 \\\\\\end{bmatrix}\\end{Bmatrix} $$"
      ],
      "metadata": {
        "id": "UYwnvOKDGwgu"
      }
    },
    {
      "cell_type": "code",
      "source": [
        "vectR = np.array([-8,3])\n",
        "vectP = np.array([5,-7])\n",
        "\n",
        "R = np.arange(-10,10,1.5)\n",
        "\n",
        "c1, c2 = np.meshgrid(R,R)\n",
        "\n",
        "vectR = vectR + vectP\n",
        "spanRx = c1*vectR[0] + c2*vectP[0]\n",
        "spanRy = c1*vectR[1] + c2*vectP[1]\n",
        "plt.scatter(spanRx,spanRy, s=5, alpha=0.75)\n",
        "\n",
        "plt.axhline(y=0, color='yellow')\n",
        "plt.axvline(x=0, color='yellow')\n",
        "plt.grid()\n",
        "plt.show()"
      ],
      "metadata": {
        "colab": {
          "base_uri": "https://localhost:8080/",
          "height": 265
        },
        "id": "HU69m4A-HTPr",
        "outputId": "e530d0d4-21d1-4272-ceee-8c548ecfacdf"
      },
      "execution_count": 11,
      "outputs": [
        {
          "output_type": "display_data",
          "data": {
            "text/plain": [
              "<Figure size 432x288 with 1 Axes>"
            ],
            "image/png": "[encoded data removed]"
          },
          "metadata": {
            "needs_background": "light"
          }
        }
      ]
    },
    {
      "cell_type": "markdown",
      "source": [
        "## Conclusion guide"
      ],
      "metadata": {
        "id": "sicb_PdWBd7c"
      }
    },
    {
      "cell_type": "markdown",
      "source": [
        "For your conclusion synthesize the concept and application of the laboratory. Briefly discuss what you have learn and achieved in this activity. At the end of your conclusion try to answer the question : \"How can you apply the concept of linear combination in engineering or real-life situations?\"."
      ],
      "metadata": {
        "id": "9IT9tVBaBgrV"
      }
    }
  ]
}