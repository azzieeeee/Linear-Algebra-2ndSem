{
  "nbformat": 4,
  "nbformat_minor": 0,
  "metadata": {
    "colab": {
      "name": "Assignment 3",
      "provenance": [],
      "authorship_tag": "ABX9TyO9tq1ILWDDqCDSVBsEeaP3",
      "include_colab_link": true
    },
    "kernelspec": {
      "name": "python3",
      "display_name": "Python 3"
    },
    "language_info": {
      "name": "python"
    }
  },
  "cells": [
    {
      "cell_type": "markdown",
      "metadata": {
        "id": "view-in-github",
        "colab_type": "text"
      },
      "source": [
        "<a href=\"https://colab.research.google.com/github/azzieeeee/Linear-Algebra-2ndSem/blob/main/Assignment_3.ipynb\" target=\"_parent\"><img src=\"https://colab.research.google.com/assets/colab-badge.svg\" alt=\"Open In Colab\"/></a>"
      ]
    },
    {
      "cell_type": "markdown",
      "source": [
        "# Linear Algebra for CHE\n",
        "## Laboratory 2: Matrices"
      ],
      "metadata": {
        "id": "XQQerwAtxZ5C"
      }
    },
    {
      "cell_type": "markdown",
      "source": [
        "## Objectives\n",
        "\n",
        "### At the end"
      ],
      "metadata": {
        "id": "I1wxECWxx--e"
      }
    },
    {
      "cell_type": "markdown",
      "source": [
        "#Discussion"
      ],
      "metadata": {
        "id": "XvvwTh9ayHfW"
      }
    },
    {
      "cell_type": "code",
      "source": [
        "import numpy as np\n",
        "import matplotlib.pyplot as plt\n",
        "import scipy.linalg as la\n",
        "%matplotlib inline"
      ],
      "metadata": {
        "id": "PwycRRGmyMnY"
      },
      "execution_count": 1,
      "outputs": []
    },
    {
      "cell_type": "markdown",
      "source": [
        "## Matrices\n",
        "\n",
        "The notation and use of matrices is probably one of the fundamentals of modern computing. Matrices are also handy representations of complex equations or multiple inter-related equations from 2-dimensional equations o even hubndreds and thousands of them. "
      ],
      "metadata": {
        "id": "ynrYiyVlyhtV"
      }
    },
    {
      "cell_type": "markdown",
      "source": [
        "Let's say for example you have ***A*** and ***B*** as system of equation."
      ],
      "metadata": {
        "id": "z8cK1Rv7zkgr"
      }
    },
    {
      "cell_type": "markdown",
      "source": [
        "$$\n",
        "A = \\left\\{\n",
        "    \\begin{array}\\\n",
        "        x + y \\\\ \n",
        "        4x - 10y\n",
        "    \\end{array}\n",
        "\\right. \\\\\n",
        "B = \\left\\{\n",
        "    \\begin{array}\\\n",
        "        x+y+z \\\\ \n",
        "        3x -2y -z \\\\\n",
        "        -x + 4y +2z\n",
        "    \\end{array}\n",
        "\\right.\\\\\n",
        "C = \\left\\{\n",
        "  \\begin{array}\\\n",
        "  w-2x+3y-4z \\\\\n",
        "  3w-x-2y+z \\\\\n",
        "  2w-x+3y-2z\n",
        "  \\end{array}\n",
        "\\right. $$"
      ],
      "metadata": {
        "id": "xFT2XWHaz0xz"
      }
    },
    {
      "cell_type": "markdown",
      "source": [
        "We could see that ***A*** is a system of 2 equations with 2 parameters. While ***B*** is a system of 3 equations with 3 parameters. We can represent them as matrices as:"
      ],
      "metadata": {
        "id": "DNu6VxoE0H90"
      }
    },
    {
      "cell_type": "markdown",
      "source": [
        ":$$\n",
        "A=\\begin{bmatrix} 1 & 1 \\\\ 4 & {-10}\\end{bmatrix} \\\\\n",
        "B=\\begin{bmatrix} 1 & 1 & 1 \\\\ 3 & -2 & -1 \\\\ -1 & 4 & 2\\end{bmatrix} \\\\\n",
        "C=\\begin{bmatrix} 1 & -2 & 3 & -4 \\\\ 3 & -1 & -2 & 1 \\\\ 2 & -1 & 3 & -2 \\end{bmatrix} \n",
        "$$"
      ],
      "metadata": {
        "id": "20Q2Zrwj1b9K"
      }
    },
    {
      "cell_type": "markdown",
      "source": [
        "So assuming that you already discussed the fundamnetal representation of matrices, their types and operations. We'll proceed in doing them in here in Python."
      ],
      "metadata": {
        "id": "vB3gZLSc2bI_"
      }
    },
    {
      "cell_type": "markdown",
      "source": [
        "##Matrix"
      ],
      "metadata": {
        "id": "OpOrWckK3O6O"
      }
    },
    {
      "cell_type": "markdown",
      "source": [
        "Just like our previous "
      ],
      "metadata": {
        "id": "MLlXlaaj3Sh7"
      }
    },
    {
      "cell_type": "markdown",
      "source": [
        "$$A=\\begin{bmatrix}\n",
        "a_{(0,0)}&a_{(0,1)}&\\dots&a_{(0,j-1)}\\\\\n",
        "a_{(1,0)}&a_{(1,1)}&\\dots&a_{(1,j-1)}\\\\\n",
        "\\vdots&\\vdots&\\ddots&\\vdots&\\\\\n",
        "a_{(i-1,0)}&a_{(i-1,1)}&\\dots&a_{(i-1,j-1)}\n",
        "\\end{bmatrix}\n",
        "$$"
      ],
      "metadata": {
        "id": "N9qgQaYq3dj1"
      }
    },
    {
      "cell_type": "markdown",
      "source": [
        "We already"
      ],
      "metadata": {
        "id": "VPcq6GDd3yPh"
      }
    },
    {
      "cell_type": "code",
      "source": [
        "## Since we'll keep on describing matrices. Let's make a function.\n",
        "def describe_mat(matrix):\n",
        "  print(f'Matrix:\\n{matrix}\\n\\nShape:\\t{matrix.shape}\\nRank:\\t{matrix.ndim}\\n')"
      ],
      "metadata": {
        "id": "sFYGz_z531UT"
      },
      "execution_count": 8,
      "outputs": []
    },
    {
      "cell_type": "code",
      "source": [
        "## Declaring a 2 x 2 matrix\n",
        "A = np.array([\n",
        "    [1, 2],\n",
        "    [3, 1]\n",
        "])\n",
        "describe_mat(A)"
      ],
      "metadata": {
        "id": "N1fSNkxf4Yp1"
      },
      "execution_count": null,
      "outputs": []
    },
    {
      "cell_type": "code",
      "source": [
        "G = np.array ([\n",
        "    [1,1,3]\n",
        "               \n",
        "])"
      ],
      "metadata": {
        "id": "Skd2VlkQ6L_1"
      },
      "execution_count": null,
      "outputs": []
    },
    {
      "cell_type": "code",
      "source": [
        "## Declaring a 3 x 2 matrix\n",
        "B = np.array([\n",
        "    [8, 2],\n",
        "    [5, 4],\n",
        "    [1, 1]\n",
        "])\n",
        "describe_mat(B)"
      ],
      "metadata": {
        "id": "2katsM1l6YI1"
      },
      "execution_count": null,
      "outputs": []
    },
    {
      "cell_type": "code",
      "source": [
        "H = np.array([1,2,3,4,5,])\n",
        "describe_mat(H)"
      ],
      "metadata": {
        "id": "CrqU8lbS6k8V"
      },
      "execution_count": null,
      "outputs": []
    },
    {
      "cell_type": "markdown",
      "source": [
        "#Categorizing Matrices"
      ],
      "metadata": {
        "id": "vwxZZEMb7TCL"
      }
    },
    {
      "cell_type": "markdown",
      "source": [
        "### Row and Column Matrices"
      ],
      "metadata": {
        "id": "kibngwnL81PT"
      }
    },
    {
      "cell_type": "code",
      "source": [
        "## Declaring a Row Matrix\n",
        "\n",
        "row_mat_1D = np.array([\n",
        "    1, 3, 2, -4\n",
        "]) ## this is a 1-D matrix with a shape of (3,), it's not really considered as row matrix\n",
        "row_mat_2D = np.array([\n",
        "    [1,2,3, -4]\n",
        "]) ## this is a 2-D matrix with a shape of (1,3)\n",
        "describe_mat(row_mat_1D)\n",
        "describe_mat(row_mat_2D)"
      ],
      "metadata": {
        "id": "uN0KhLwR7YCv"
      },
      "execution_count": null,
      "outputs": []
    },
    {
      "cell_type": "code",
      "source": [
        "## Declaring a Column Matrix\n",
        "\n",
        "col_mat = np.array([\n",
        "    [6],\n",
        "    [12],\n",
        "    [2]\n",
        "]) ## this is a 2-D matrix with a shape of (3,1)\n",
        "describe_mat(col_mat)"
      ],
      "metadata": {
        "id": "H2uQI5Zn8mqU"
      },
      "execution_count": null,
      "outputs": []
    },
    {
      "cell_type": "markdown",
      "source": [
        "### Square Matrices"
      ],
      "metadata": {
        "id": "NvU_Zsap9odi"
      }
    },
    {
      "cell_type": "code",
      "source": [
        "def describe_mat(matrix):\n",
        "  is_square =  True if matrix.shape[0] == matrix.shape[1] else False\n",
        "  print(f'Matrix:\\n{matrix}\\n\\nShape:\\t{matrix.shape}\\nRank:\\t{matrix.ndim}\\nIs Square: {is_square}\\n')"
      ],
      "metadata": {
        "id": "XErGH5vD9qyg"
      },
      "execution_count": 23,
      "outputs": []
    },
    {
      "cell_type": "code",
      "source": [
        "square_mat = np.array([\n",
        "    [1,2,5],\n",
        "    [3,3,8],\n",
        "    [6,1,2]\n",
        "])\n",
        "\n",
        "non_square_mat = np.array([\n",
        "    [1,2,5],\n",
        "    [3,3,8]\n",
        "  \n",
        "])\n",
        "describe_mat(square_mat)\n",
        "describe_mat(non_square_mat)"
      ],
      "metadata": {
        "id": "JUIECuOi-inf"
      },
      "execution_count": null,
      "outputs": []
    },
    {
      "cell_type": "markdown",
      "source": [
        "#According to element values"
      ],
      "metadata": {
        "id": "DRe971sQBF79"
      }
    },
    {
      "cell_type": "markdown",
      "source": [
        "### Null Matrix"
      ],
      "metadata": {
        "id": "220G19o8BJZ-"
      }
    },
    {
      "cell_type": "code",
      "source": [
        "def describe_mat(matrix):\n",
        "  if matrix.size > 0:\n",
        "    is_square = True if matrix.shape[0] == matrix.shape[1] else False\n",
        "    print(f'Matrix:\\n{matrix}\\n\\nShape:\\t{matrix.shape}\\nRank:\\t{matrix.ndim}\\nIs Square: {is_square}\\n')\n",
        "  else:\n",
        "      print('Matrix is Null')"
      ],
      "metadata": {
        "id": "77gtVpe4BNd5"
      },
      "execution_count": 29,
      "outputs": []
    },
    {
      "cell_type": "code",
      "source": [
        "null_mat = np.array([])\n",
        "describe_mat(null_mat)"
      ],
      "metadata": {
        "id": "yLJMrNIYCCwJ"
      },
      "execution_count": null,
      "outputs": []
    },
    {
      "cell_type": "markdown",
      "source": [
        "### Zero Matrix"
      ],
      "metadata": {
        "id": "6FgvjlrBCNLv"
      }
    },
    {
      "cell_type": "code",
      "source": [
        "zero_mat_row = np.zeros ((1,2))\n",
        "zero_mat_sqr = np.zeros((2,2,))\n",
        "zero_mat_rct = np.zeros ((3,2))\n",
        "\n",
        "print(f'Zero Row Matrix: \\n{zero_mat_row}')\n",
        "print(f'Zero Square Matrix: \\n{zero_mat_sqr}')\n",
        "print(f'Zero Rectangular Matrix: \\n{zero_mat_rct}')"
      ],
      "metadata": {
        "id": "4VAyqWrCCPxe"
      },
      "execution_count": null,
      "outputs": []
    },
    {
      "cell_type": "markdown",
      "source": [
        "### Ones Matrix"
      ],
      "metadata": {
        "id": "wAX_acGhDA40"
      }
    },
    {
      "cell_type": "markdown",
      "source": [
        "A ones matrix, just like the zero matrix, can be any rectangular matrix but all of its elements are 1s instead of 0s"
      ],
      "metadata": {
        "id": "Oj7QxYi3Ea5I"
      }
    },
    {
      "cell_type": "code",
      "source": [
        "ones_mat_row = np.ones ((1,2))\n",
        "ones_mat_sqr = np.ones((2,2,))\n",
        "ones_mat_rct = np.ones ((3,2))\n",
        "\n",
        "print(f'Ones Row Matrix: \\n{ones_mat_row}')\n",
        "print(f'Ones Square Matrix: \\n{ones_mat_sqr}')\n",
        "print(f'Ones Rectangular Matrix: \\n{ones_mat_rct}')"
      ],
      "metadata": {
        "id": "KxYcDYIjDEro"
      },
      "execution_count": null,
      "outputs": []
    },
    {
      "cell_type": "markdown",
      "source": [
        "### Diagonal Matrix"
      ],
      "metadata": {
        "id": "RQGrLzXqEo6n"
      }
    },
    {
      "cell_type": "markdown",
      "source": [
        "A diagonal matrix is a square matrix that has values only at the diagonal of the matrix."
      ],
      "metadata": {
        "id": "ww6Wma9KEsSF"
      }
    },
    {
      "cell_type": "code",
      "source": [
        "np.array([\n",
        "    [23,0,0],\n",
        "    [0,13,0],\n",
        "    [0,0,35]\n",
        "])\n",
        "#a[1,1], a[2,2],a[3,3], ... a[n-1,n-1]"
      ],
      "metadata": {
        "id": "SvZC2p_GFZKP"
      },
      "execution_count": null,
      "outputs": []
    },
    {
      "cell_type": "code",
      "source": [
        "d = np.diag ([23,13,35,7])\n",
        "d.shape[0] == d.shape[1]\n",
        "d"
      ],
      "metadata": {
        "id": "Qz4NyjmdEz0H"
      },
      "execution_count": null,
      "outputs": []
    },
    {
      "cell_type": "markdown",
      "source": [
        "### Identity Matrix"
      ],
      "metadata": {
        "id": "FDI3apOXF4jA"
      }
    },
    {
      "cell_type": "markdown",
      "source": [
        "An identity matrix is a special diagonal matrix in which the values at the diagonal are ones."
      ],
      "metadata": {
        "id": "43COu1s6GEer"
      }
    },
    {
      "cell_type": "code",
      "source": [
        "np.eye(8)"
      ],
      "metadata": {
        "id": "JzXi8GI0F6pA"
      },
      "execution_count": null,
      "outputs": []
    },
    {
      "cell_type": "code",
      "source": [
        "np.identity(10)"
      ],
      "metadata": {
        "id": "X2QHNdUjGBJH"
      },
      "execution_count": null,
      "outputs": []
    },
    {
      "cell_type": "markdown",
      "source": [
        "### Upper Triangular Matrix"
      ],
      "metadata": {
        "id": "S9u0M0tqGeiZ"
      }
    },
    {
      "cell_type": "markdown",
      "source": [
        ""
      ],
      "metadata": {
        "id": "NOZodG3MGhAN"
      }
    },
    {
      "cell_type": "code",
      "source": [
        "np.array([\n",
        "    [1,2,3,4],\n",
        "    [0,3,1,-1],\n",
        "    [0,0,6,1],\n",
        "    [0,0,0,12]\n",
        "])"
      ],
      "metadata": {
        "id": "8J0o3CyIGhQ5"
      },
      "execution_count": null,
      "outputs": []
    },
    {
      "cell_type": "markdown",
      "source": [
        "### Lower Triangular Matrix"
      ],
      "metadata": {
        "id": "CUhiAWj1G8Co"
      }
    },
    {
      "cell_type": "markdown",
      "source": [
        "A lower triangular matrix is a matrix that has no values above the diagonal."
      ],
      "metadata": {
        "id": "BudSYnN6G_tg"
      }
    },
    {
      "cell_type": "code",
      "source": [
        "np.array([\n",
        "    [0,0,0,12],\n",
        "    [0,0,6,1],\n",
        "    [0,3,1,-1],\n",
        "    [1,2,3,4]\n",
        "])"
      ],
      "metadata": {
        "id": "tQmfX5XcHACB"
      },
      "execution_count": null,
      "outputs": []
    },
    {
      "cell_type": "markdown",
      "source": [
        "## Practice"
      ],
      "metadata": {
        "id": "uZ2HulJpHZ24"
      }
    },
    {
      "cell_type": "markdown",
      "source": [
        "1. Given the linear combination below, try to create a corresponding matrix representing it."
      ],
      "metadata": {
        "id": "SA6owjpPHdJH"
      }
    },
    {
      "cell_type": "markdown",
      "source": [
        ":$$\\theta = 5x + 3y - z$$"
      ],
      "metadata": {
        "id": "fQ6j5cIwHnKo"
      }
    },
    {
      "cell_type": "markdown",
      "source": [
        "2. Given the system of linear combinations below, try to encode it as a matrix. Also describe the matrix."
      ],
      "metadata": {
        "id": "WVoBcAUZH8qN"
      }
    },
    {
      "cell_type": "markdown",
      "source": [
        "$$\n",
        "A = \\left\\{\\begin{array}\n",
        "5x_1 + 2x_2 +x_3\\\\\n",
        "4x_2 - x_3\\\\\n",
        "10x_3\n",
        "\\end{array}\\right.\n",
        "$$"
      ],
      "metadata": {
        "id": "38-0cyPwIQV5"
      }
    },
    {
      "cell_type": "markdown",
      "source": [
        "3. Given the matrix below, express it as a linear combination in a markdown and a LaTeX markdown"
      ],
      "metadata": {
        "id": "GVFMsXhIITCS"
      }
    },
    {
      "cell_type": "code",
      "source": [
        "G = np.array([\n",
        "    [1,7,8],\n",
        "    [2,2,2],\n",
        "    [4,6,7]\n",
        "])"
      ],
      "metadata": {
        "id": "tKFBQstsJDUn"
      },
      "execution_count": 46,
      "outputs": []
    },
    {
      "cell_type": "markdown",
      "source": [
        "4. Given the matrix below, display the output as a LaTeX markdown also express it as a system of linear combinations."
      ],
      "metadata": {
        "id": "HnCkOLLJJIma"
      }
    },
    {
      "cell_type": "code",
      "source": [
        "H = np.tril(G)\n",
        "H"
      ],
      "metadata": {
        "id": "4QQMGPyuJZAN"
      },
      "execution_count": null,
      "outputs": []
    },
    {
      "cell_type": "markdown",
      "source": [
        "##Matrix Algebra"
      ],
      "metadata": {
        "id": "x67XAm9wJdzR"
      }
    },
    {
      "cell_type": "markdown",
      "source": [
        "### Addition"
      ],
      "metadata": {
        "id": "ms2EJt7xJmHA"
      }
    },
    {
      "cell_type": "code",
      "source": [
        ""
      ],
      "metadata": {
        "id": "QgZIYouoJg1N"
      },
      "execution_count": null,
      "outputs": []
    }
  ]
}