{
  "nbformat": 4,
  "nbformat_minor": 0,
  "metadata": {
    "colab": {
      "name": "Assignment 9",
      "provenance": [],
      "collapsed_sections": [],
      "authorship_tag": "ABX9TyNtmFjI60kXMgwmuhPgrUup",
      "include_colab_link": true
    },
    "kernelspec": {
      "name": "python3",
      "display_name": "Python 3"
    },
    "language_info": {
      "name": "python"
    }
  },
  "cells": [
    {
      "cell_type": "markdown",
      "metadata": {
        "id": "view-in-github",
        "colab_type": "text"
      },
      "source": [
        "<a href=\"https://colab.research.google.com/github/azzieeeee/Linear-Algebra-2ndSem/blob/main/Assignment_9.ipynb\" target=\"_parent\"><img src=\"https://colab.research.google.com/assets/colab-badge.svg\" alt=\"Open In Colab\"/></a>"
      ]
    },
    {
      "cell_type": "markdown",
      "source": [
        "# Lab 2 - Plotting Vector using NumPy and MatPlotLib"
      ],
      "metadata": {
        "id": "XyRIaq3HYnE3"
      }
    },
    {
      "cell_type": "markdown",
      "source": [
        "In this laboratory, we will be discussing the basics of numerical and scientific programming by working with Vectors using NumPy and MatPlotLib."
      ],
      "metadata": {
        "id": "DN65v9qMYwYd"
      }
    },
    {
      "cell_type": "markdown",
      "source": [
        "##Objectives"
      ],
      "metadata": {
        "id": "zXDTU6IDZUfi"
      }
    },
    {
      "cell_type": "markdown",
      "source": [
        "At the end of this activity you will be able to:\n",
        "1. Be familiar with the libraries in Python for numerical and scientific programming.\n",
        "2. Visualize vecvtors through Python programming.\n",
        "3. Perform simple vector operations through code."
      ],
      "metadata": {
        "id": "cXsYP0wl7PoS"
      }
    },
    {
      "cell_type": "markdown",
      "source": [
        "## Discussion"
      ],
      "metadata": {
        "id": "vn1tJSae81Fc"
      }
    },
    {
      "cell_type": "markdown",
      "source": [
        "##NumPy"
      ],
      "metadata": {
        "id": "Cu28ETMV84Uw"
      }
    },
    {
      "cell_type": "markdown",
      "source": [
        "NumPy or Numerical Python, is mainly used for matrix and vector operations. It is capable of declaring computing and representing matrices. Most Python scientific programming libraries uses NumPy as the basic code."
      ],
      "metadata": {
        "id": "rHn0zRYk86af"
      }
    },
    {
      "cell_type": "markdown",
      "source": [
        "Scalars \\\\\n",
        "Represent magnitude or a single value\n",
        "\n",
        "Vectors \\\\\n",
        "Represent magnitude with directors"
      ],
      "metadata": {
        "id": "ZF7I-02C-jEn"
      }
    },
    {
      "cell_type": "markdown",
      "source": [
        "## Representing Vectors"
      ],
      "metadata": {
        "id": "9OPxS03x-oL0"
      }
    },
    {
      "cell_type": "markdown",
      "source": [
        "Now that you know how to represent vectors using their component and matrix form we can now hard-code them in Python. Let's say that you have the vectors:"
      ],
      "metadata": {
        "id": "cUyJKJG0-tTq"
      }
    },
    {
      "cell_type": "markdown",
      "source": [
        "$$ S = 2\\hat{x} + 1\\hat{y} \\\\\n",
        "U = -1\\hat{x} - 4\\hat{y}\\\\\n",
        "H = 3ax + 6ay - 2az \\\\\n",
        "O = 5\\hat{i} - 7\\hat{j} + 3\\hat{k}$$"
      ],
      "metadata": {
        "id": "3r2lpyR9-uEu"
      }
    },
    {
      "cell_type": "markdown",
      "source": [
        "In which it's matrix equivalent is:"
      ],
      "metadata": {
        "id": "jcVyasRhBiCC"
      }
    },
    {
      "cell_type": "markdown",
      "source": [
        "$$ S = \\begin{bmatrix} 2 \\\\ 1\\end{bmatrix} , U = \\begin{bmatrix} -1 \\\\ -4\\end{bmatrix} , H = \\begin{bmatrix} 3 \\\\ 6 \\\\  -2 \\end{bmatrix}, O = \\begin{bmatrix} 5 \\\\ -7 \\\\ 3\\end{bmatrix}\n",
        "$$\n",
        "$$ S = \\begin{bmatrix} 2 & 1\\end{bmatrix} , U = \\begin{bmatrix} -1 & -4\\end{bmatrix} , H = \\begin{bmatrix} 3 & 6 & -2\\end{bmatrix} , O = \\begin{bmatrix} 5 & -7 & 3\\end{bmatrix} \n",
        "$$"
      ],
      "metadata": {
        "id": "A9mz-36pBlCU"
      }
    },
    {
      "cell_type": "markdown",
      "source": [
        "We can then start doing numpy code with this by:"
      ],
      "metadata": {
        "id": "c5dtSS-SB-It"
      }
    },
    {
      "cell_type": "code",
      "source": [
        "## Importing necessary libraries\n",
        "import numpy as np ## 'np' here is short-hand name of the library (numpy) or a nickname."
      ],
      "metadata": {
        "id": "_hTRwKWWCEUL"
      },
      "execution_count": 1,
      "outputs": []
    },
    {
      "cell_type": "code",
      "source": [
        "S = np.array([2, 1])\n",
        "U = np.array([-1, -4])\n",
        "H = np.array([\n",
        "              [3],\n",
        "              [6],\n",
        "              [-2]\n",
        "])\n",
        "O = np.array ([[5],\n",
        "              [-7],\n",
        "              [3]])\n",
        "print('Vector S is ', S)\n",
        "print('Vector U is ', U)\n",
        "print('Vector H is ', H)\n",
        "print('Vector O is ', O)"
      ],
      "metadata": {
        "colab": {
          "base_uri": "https://localhost:8080/"
        },
        "id": "COoGDKKyCIea",
        "outputId": "5c32e931-7e2c-4d32-bcd9-738c92141ba8"
      },
      "execution_count": 2,
      "outputs": [
        {
          "output_type": "stream",
          "name": "stdout",
          "text": [
            "Vector S is  [2 1]\n",
            "Vector U is  [-1 -4]\n",
            "Vector H is  [[ 3]\n",
            " [ 6]\n",
            " [-2]]\n",
            "Vector O is  [[ 5]\n",
            " [-7]\n",
            " [ 3]]\n"
          ]
        }
      ]
    },
    {
      "cell_type": "markdown",
      "source": [
        "## Describing vectors in NumPy"
      ],
      "metadata": {
        "id": "HKC4lrhiCdE3"
      }
    },
    {
      "cell_type": "markdown",
      "source": [
        "Describing vectors is very important if we want to perform basic to advanced operations with them. The fundamental ways in describing vectors are knowing their shape, size and dimensions."
      ],
      "metadata": {
        "id": "mxFzAcovCjkg"
      }
    },
    {
      "cell_type": "code",
      "source": [
        "### Checking shapes\n",
        "### Shapes tells us how many elements are there on each row and column\n",
        "\n",
        "K = np.array([[3, 1, 2, -0.4, 5]])\n",
        "K.shape"
      ],
      "metadata": {
        "colab": {
          "base_uri": "https://localhost:8080/"
        },
        "id": "AraY8CbJCmUP",
        "outputId": "f6267d23-7df5-4035-aec2-cc268fde7a2c"
      },
      "execution_count": null,
      "outputs": [
        {
          "output_type": "execute_result",
          "data": {
            "text/plain": [
              "(1, 5)"
            ]
          },
          "metadata": {},
          "execution_count": 23
        }
      ]
    },
    {
      "cell_type": "code",
      "source": [
        "### Checking size\n",
        "### Array/Vector sizes tells us many total number of elements are there in the vector\n",
        "K.size"
      ],
      "metadata": {
        "colab": {
          "base_uri": "https://localhost:8080/"
        },
        "id": "xH76zh4wDwrF",
        "outputId": "432138e6-3f52-459b-a55f-856d86fb5e81"
      },
      "execution_count": null,
      "outputs": [
        {
          "output_type": "execute_result",
          "data": {
            "text/plain": [
              "5"
            ]
          },
          "metadata": {},
          "execution_count": 24
        }
      ]
    },
    {
      "cell_type": "code",
      "source": [
        "### Checking dimensions\n",
        "### The dimensions or rank of a vector tells us how many dimensions are there for the vector.\n",
        "\n",
        "K.ndim"
      ],
      "metadata": {
        "colab": {
          "base_uri": "https://localhost:8080/"
        },
        "id": "nlwLVFyqE-Q2",
        "outputId": "3a44e28c-6230-47ac-cd2c-242d5b909914"
      },
      "execution_count": null,
      "outputs": [
        {
          "output_type": "execute_result",
          "data": {
            "text/plain": [
              "2"
            ]
          },
          "metadata": {},
          "execution_count": 25
        }
      ]
    },
    {
      "cell_type": "markdown",
      "source": [
        "Great! Now let's try to explore in performing operations with these vectors."
      ],
      "metadata": {
        "id": "2sE8xHNnE9j-"
      }
    },
    {
      "cell_type": "markdown",
      "source": [
        "The addition rule is simple, the we just need to add the elements of the \n",
        "\n",
        "1.   List item\n",
        "2.   List item\n",
        "\n",
        "matrices according to their index. So in this case if we add vector $A$ and vector $B$ we will have a resulting vector:"
      ],
      "metadata": {
        "id": "5kG7zfWXFV9z"
      }
    },
    {
      "cell_type": "markdown",
      "source": [
        "$$R = 1\\hat{x}-3\\hat{y} \\\\ \\\\or \\\\ \\\\ R = \\begin{bmatrix} 1 \\\\ -3\\end{bmatrix} $$"
      ],
      "metadata": {
        "id": "_vNxKGQyFXwp"
      }
    },
    {
      "cell_type": "markdown",
      "source": [
        "So let's try to do that in NumPy in several number of ways:"
      ],
      "metadata": {
        "id": "nbs2AjaVF5Np"
      }
    },
    {
      "cell_type": "code",
      "source": [
        "R = np.add(S, U) ## this is the functional method usisng the numpy library\n",
        "P = np.add(H, O)\n",
        "P"
      ],
      "metadata": {
        "colab": {
          "base_uri": "https://localhost:8080/"
        },
        "id": "d4St6Bi6F8G-",
        "outputId": "08c4ec89-48bc-4c16-e551-e0dd22b59264"
      },
      "execution_count": null,
      "outputs": [
        {
          "output_type": "execute_result",
          "data": {
            "text/plain": [
              "array([[ 8],\n",
              "       [-1],\n",
              "       [ 1]])"
            ]
          },
          "metadata": {},
          "execution_count": 28
        }
      ]
    },
    {
      "cell_type": "code",
      "source": [
        "R = S + U   ## this is the explicit method, since Python does a value-reference so it can \n",
        "            ## know that these variables would need to do array operations.\n",
        "R"
      ],
      "metadata": {
        "colab": {
          "base_uri": "https://localhost:8080/"
        },
        "id": "TTNmKeXHGGTp",
        "outputId": "2d1e786b-406a-4016-ee29-7fe6c9f2ff7b"
      },
      "execution_count": null,
      "outputs": [
        {
          "output_type": "execute_result",
          "data": {
            "text/plain": [
              "array([ 1, -3])"
            ]
          },
          "metadata": {},
          "execution_count": 27
        }
      ]
    },
    {
      "cell_type": "code",
      "source": [
        "pos1 = np.array([3,6,9])\n",
        "pos2 = np.array([8,5,2])\n",
        "pos3 = np.array([0,0,0])\n",
        "pos4 = np.array([1,7,4])\n",
        "#R = pos1 + pos2 + pos3 + pos4\n",
        "#R = np.multiply(pos3, pos4)\n",
        "R = pos2 / pos4\n",
        "R"
      ],
      "metadata": {
        "colab": {
          "base_uri": "https://localhost:8080/"
        },
        "id": "kz1wu7ECGRtP",
        "outputId": "d460839c-b4aa-4db5-ca4f-a85ca9323f77"
      },
      "execution_count": 5,
      "outputs": [
        {
          "output_type": "execute_result",
          "data": {
            "text/plain": [
              "array([8.        , 0.71428571, 0.5       ])"
            ]
          },
          "metadata": {},
          "execution_count": 5
        }
      ]
    },
    {
      "cell_type": "markdown",
      "source": [
        "## Try for yourself!"
      ],
      "metadata": {
        "id": "kyIg53d5HD0U"
      }
    },
    {
      "cell_type": "markdown",
      "source": [
        "Try to implement subtraction, multiplication, and division with vectors $A$ and $B$!"
      ],
      "metadata": {
        "id": "JnWen3h1HIOe"
      }
    },
    {
      "cell_type": "code",
      "source": [
        "### Try out you code here! \n",
        "pos1 = np.array([2,1])\n",
        "pos2 = np.array([-1,-4])"
      ],
      "metadata": {
        "id": "ETIO44VLHK5p"
      },
      "execution_count": null,
      "outputs": []
    },
    {
      "cell_type": "code",
      "source": [
        "R = pos1 - pos2\n",
        "R"
      ],
      "metadata": {
        "colab": {
          "base_uri": "https://localhost:8080/"
        },
        "id": "vUMzzGO7HiVJ",
        "outputId": "b8bc34cc-75d2-409f-d49e-d7b27e868d9d"
      },
      "execution_count": null,
      "outputs": [
        {
          "output_type": "execute_result",
          "data": {
            "text/plain": [
              "array([3, 5])"
            ]
          },
          "metadata": {},
          "execution_count": 33
        }
      ]
    },
    {
      "cell_type": "code",
      "source": [
        "R = pos1 * pos2\n",
        "R"
      ],
      "metadata": {
        "colab": {
          "base_uri": "https://localhost:8080/"
        },
        "id": "u9zaIUJaHqJy",
        "outputId": "40ba553e-39c9-4adb-be05-3ed50676f1a0"
      },
      "execution_count": null,
      "outputs": [
        {
          "output_type": "execute_result",
          "data": {
            "text/plain": [
              "array([-2, -4])"
            ]
          },
          "metadata": {},
          "execution_count": 34
        }
      ]
    },
    {
      "cell_type": "code",
      "source": [
        "R = pos1 / pos2\n",
        "R"
      ],
      "metadata": {
        "colab": {
          "base_uri": "https://localhost:8080/"
        },
        "id": "B8SYxBg9HyXB",
        "outputId": "77e40b63-7237-46a0-9c10-cb6490d9d784"
      },
      "execution_count": null,
      "outputs": [
        {
          "output_type": "execute_result",
          "data": {
            "text/plain": [
              "array([-2.  , -0.25])"
            ]
          },
          "metadata": {},
          "execution_count": 35
        }
      ]
    },
    {
      "cell_type": "markdown",
      "source": [
        "## Scaling"
      ],
      "metadata": {
        "id": "uhlNXhWaH3T9"
      }
    },
    {
      "cell_type": "markdown",
      "source": [
        "Scaling or scalar multiplication takes a scalar value and performs multiplication with a vector. Let's take the example below:"
      ],
      "metadata": {
        "id": "YJteg8H3H7xF"
      }
    },
    {
      "cell_type": "markdown",
      "source": [
        "$$S = 5 \\cdot (A)S$$"
      ],
      "metadata": {
        "id": "SjuOIOfvIFOj"
      }
    },
    {
      "cell_type": "markdown",
      "source": [
        "We can do this in NumPy through:"
      ],
      "metadata": {
        "id": "lLRsgDo_IKeO"
      }
    },
    {
      "cell_type": "code",
      "source": [
        "#S = 5 * A(S)\n",
        "S = np.multiply(5,S)\n",
        "S"
      ],
      "metadata": {
        "colab": {
          "base_uri": "https://localhost:8080/"
        },
        "id": "3guUSYWhIBLe",
        "outputId": "076055c1-f029-4c08-f164-e747da454102"
      },
      "execution_count": null,
      "outputs": [
        {
          "output_type": "execute_result",
          "data": {
            "text/plain": [
              "array([10,  5])"
            ]
          },
          "metadata": {},
          "execution_count": 36
        }
      ]
    },
    {
      "cell_type": "markdown",
      "source": [
        "Try to implement scaling with two vectors."
      ],
      "metadata": {
        "id": "rYiQqH-EIg00"
      }
    },
    {
      "cell_type": "code",
      "source": [
        "S = np.multiply(3,H)\n",
        "S"
      ],
      "metadata": {
        "colab": {
          "base_uri": "https://localhost:8080/"
        },
        "id": "vmp1eQKJIhet",
        "outputId": "7c047f0f-2bae-437d-a9ec-b0b9357bedbc"
      },
      "execution_count": null,
      "outputs": [
        {
          "output_type": "execute_result",
          "data": {
            "text/plain": [
              "array([[ 9],\n",
              "       [18],\n",
              "       [-6]])"
            ]
          },
          "metadata": {},
          "execution_count": 41
        }
      ]
    },
    {
      "cell_type": "code",
      "source": [
        "S = np.multiply(9,O)\n",
        "S"
      ],
      "metadata": {
        "colab": {
          "base_uri": "https://localhost:8080/"
        },
        "id": "QyCBmZ3lIvuO",
        "outputId": "9a8b0238-6fc8-475f-f848-c7e48f6d6214"
      },
      "execution_count": null,
      "outputs": [
        {
          "output_type": "execute_result",
          "data": {
            "text/plain": [
              "array([[ 45],\n",
              "       [-63],\n",
              "       [ 27]])"
            ]
          },
          "metadata": {},
          "execution_count": 42
        }
      ]
    },
    {
      "cell_type": "markdown",
      "source": [
        "##MatPlotLib"
      ],
      "metadata": {
        "id": "W3l4BUYXI-VG"
      }
    },
    {
      "cell_type": "markdown",
      "source": [
        "MatPlotLib or MATLab Plotting library is Python's take on MATLabs plotting feature. MatPlotLib can be used vastly from graping values to visualizing several dimensions of data."
      ],
      "metadata": {
        "id": "ocO9U7lNJCPW"
      }
    },
    {
      "cell_type": "markdown",
      "source": [
        "##Visualizing Data"
      ],
      "metadata": {
        "id": "hdfcfBzCJDrK"
      }
    },
    {
      "cell_type": "markdown",
      "source": [
        "It's not enough just solving these vectors so might need to visualize them. So we'll use MatPlotLib for that. We'll need to import it first."
      ],
      "metadata": {
        "id": "TTOo8SrbJIkY"
      }
    },
    {
      "cell_type": "code",
      "source": [
        "import matplotlib.pyplot as plt\n",
        "import matplotlib\n",
        "%matplotlib inline"
      ],
      "metadata": {
        "id": "pd7tHTB3JPh9"
      },
      "execution_count": 6,
      "outputs": []
    },
    {
      "cell_type": "code",
      "source": [
        "A = [2, -4]\n",
        "B = [9, -7]\n",
        "plt.scatter(A[0], A[1], label='A', c='cyan')\n",
        "plt.scatter(B[0], B[1], label='B', c='purple')\n",
        "plt.grid()\n",
        "plt.legend()\n",
        "plt.show()"
      ],
      "metadata": {
        "colab": {
          "base_uri": "https://localhost:8080/",
          "height": 265
        },
        "id": "f6cTj66PJUu6",
        "outputId": "3c6a9e22-6e89-4f4f-968c-7ce1e3332fa6"
      },
      "execution_count": null,
      "outputs": [
        {
          "output_type": "display_data",
          "data": {
            "text/plain": [
              "<Figure size 432x288 with 1 Axes>"
            ],
            "image/png": "[encoded data removed]"
          },
          "metadata": {
            "needs_background": "light"
          }
        }
      ]
    },
    {
      "cell_type": "code",
      "source": [
        "A = np.array([3, -5])\n",
        "B = np.array([-2, 7])\n",
        "plt.title(\"Resultant Vector\\nMagnitude:{}\" .format(Magnitude))\n",
        "plt.xlim(-8, 8)\n",
        "plt.ylim(-8, 8)\n",
        "plt.quiver(0, 0, A[0], A[1], angles='xy', scale_units='xy', scale=1, color='pink')\n",
        "plt.quiver(A[0], A[1], B[0], B[1], angles='xy', scale_units='xy', scale=1, color='black')\n",
        "R = A + B\n",
        "plt.quiver(0, 0, R[0], R[1], angles='xy', scale_units='xy', scale=1, color='yellow')\n",
        "plt.grid()\n",
        "plt.show()\n",
        "print(R)\n",
        "Magnitude = np.sqrt(np.sum(R**2))\n",
        "print(Magnitude)\n",
        "Slope = R[1]/R[0]\n",
        "print(Slope)\n",
        "Angle = (np.arctan(Slope))*(180/np.pi)\n",
        "print(Angle)"
      ],
      "metadata": {
        "colab": {
          "base_uri": "https://localhost:8080/",
          "height": 365
        },
        "id": "q1XeZJC-J3iE",
        "outputId": "9833ea62-a32b-4409-dcc4-25446e3d4573"
      },
      "execution_count": null,
      "outputs": [
        {
          "output_type": "display_data",
          "data": {
            "text/plain": [
              "<Figure size 432x288 with 1 Axes>"
            ],
            "image/png": "[encoded data removed]"
          },
          "metadata": {
            "needs_background": "light"
          }
        },
        {
          "output_type": "stream",
          "name": "stdout",
          "text": [
            "[1 2]\n",
            "2.23606797749979\n",
            "2.0\n",
            "63.43494882292201\n"
          ]
        }
      ]
    },
    {
      "cell_type": "code",
      "source": [
        "n = A.shape[0]\n",
        "plt.xlim(-10, 10)\n",
        "plt.ylim(-10, 10)\n",
        "plt.quiver(0,0, A[0], A[1], angles='xy', scale_units='xy',scale=1)\n",
        "plt.quiver(A[0],A[1], B[0], B[1], angles='xy', scale_units='xy',scale=1)\n",
        "plt.quiver(0,0, R[0], R[1], angles='xy', scale_units='xy',scale=1)\n",
        "plt.show()"
      ],
      "metadata": {
        "colab": {
          "base_uri": "https://localhost:8080/",
          "height": 269
        },
        "id": "suJYVrk7OJj0",
        "outputId": "f51619aa-ead1-4ebc-8242-2c01db77207c"
      },
      "execution_count": null,
      "outputs": [
        {
          "output_type": "display_data",
          "data": {
            "text/plain": [
              "<Figure size 432x288 with 1 Axes>"
            ],
            "image/png": "[encoded data removed]"
          },
          "metadata": {
            "needs_background": "light"
          }
        }
      ]
    },
    {
      "cell_type": "markdown",
      "source": [
        "Try plotting Three Vectors and show the Resultant Vector as a result.\n",
        "Use Head to Tail Method."
      ],
      "metadata": {
        "id": "Zdd2C2SGOdGI"
      }
    },
    {
      "cell_type": "code",
      "source": [
        "E = np.array([3, 6])\n",
        "X = np.array([8, 7])\n",
        "O = np.array([5, 1])\n",
        "R = E + X + O\n",
        "print(R)\n",
        "Magnitude = np.sqrt(np.sum(R**2))\n",
        "print(Magnitude)\n",
        "plt.title(\"Resultant Vector\\nMagnitude:{}\" .format(Magnitude))\n",
        "plt.xlim(-10, 25)\n",
        "plt.ylim(-10, 25)\n",
        "plt.quiver(0, 0, E[0], E[1], angles='xy', scale_units='xy', scale=1, color='pink')\n",
        "plt.quiver(E[0], E[1], X[0], X[1], angles='xy', scale_units='xy', scale=1, color='purple')\n",
        "plt.quiver( E[0], E[1], X[0], X[1], O[1], angles='xy', scale_units='xy', scale=1, color='magenta')\n",
        "plt.quiver(0, 0, R[0], R[1], angles='xy', scale_units='xy', scale=1, color='yellow')\n",
        "plt.grid()\n",
        "plt.show()\n",
        "Slope = R[1]/R[0]\n",
        "print(Slope)\n",
        "Angle = (np.arctan(Slope))*(180/np.pi)\n",
        "print(Angle)"
      ],
      "metadata": {
        "colab": {
          "base_uri": "https://localhost:8080/",
          "height": 365
        },
        "id": "ITXBJo1g4bCL",
        "outputId": "b27a59c8-cc90-4037-9ae6-54ac785b4d29"
      },
      "execution_count": 9,
      "outputs": [
        {
          "output_type": "stream",
          "name": "stdout",
          "text": [
            "[16 14]\n",
            "21.2602916254693\n"
          ]
        },
        {
          "output_type": "display_data",
          "data": {
            "text/plain": [
              "<Figure size 432x288 with 1 Axes>"
            ],
            "image/png": "[encoded data removed]"
          },
          "metadata": {
            "needs_background": "light"
          }
        },
        {
          "output_type": "stream",
          "name": "stdout",
          "text": [
            "0.875\n",
            "41.18592516570965\n"
          ]
        }
      ]
    }
  ]
}