{
  "nbformat": 4,
  "nbformat_minor": 0,
  "metadata": {
    "colab": {
      "name": "Activity 1 - Python Fundamentals",
      "provenance": [],
      "collapsed_sections": [],
      "authorship_tag": "ABX9TyMbCxxIe/KHW8APW1qFscPf",
      "include_colab_link": true
    },
    "kernelspec": {
      "name": "python3",
      "display_name": "Python 3"
    },
    "language_info": {
      "name": "python"
    }
  },
  "cells": [
    {
      "cell_type": "markdown",
      "metadata": {
        "id": "view-in-github",
        "colab_type": "text"
      },
      "source": [
        "<a href=\"https://colab.research.google.com/github/azzieeeee/Linear-Algebra-2ndSem/blob/main/Activity_1_Python_Fundamentals.ipynb\" target=\"_parent\"><img src=\"https://colab.research.google.com/assets/colab-badge.svg\" alt=\"Open In Colab\"/></a>"
      ]
    },
    {
      "cell_type": "markdown",
      "source": [
        "# Welcome to Python Fundamentals\n",
        "In this module, we are going to establish or review our skills in Python programming. In this notebook we are going to cover:\n",
        "* Variables and Data Types \n",
        "* Operations\n",
        "* Input and Output Operations\n",
        "* Logic Control\n",
        "* Iterables\n",
        "* Functions"
      ],
      "metadata": {
        "id": "uXRAAGd_s5rb"
      }
    },
    {
      "cell_type": "markdown",
      "source": [
        "## Variable and Data Types"
      ],
      "metadata": {
        "id": "q1mZQYRltCL3"
      }
    },
    {
      "cell_type": "code",
      "source": [
        "x = 1\n",
        "k,g = 6, 2\n",
        "g"
      ],
      "metadata": {
        "id": "mdoxZenwtWBD"
      },
      "execution_count": null,
      "outputs": []
    },
    {
      "cell_type": "code",
      "source": [
        "x = 2"
      ],
      "metadata": {
        "id": "1Dc6IHveuozE"
      },
      "execution_count": null,
      "outputs": []
    },
    {
      "cell_type": "code",
      "source": [
        "type (x)"
      ],
      "metadata": {
        "colab": {
          "base_uri": "https://localhost:8080/"
        },
        "id": "JjkMLSDjvVEd",
        "outputId": "94bf8f1e-23a4-4f96-b435-283c6372929a"
      },
      "execution_count": null,
      "outputs": [
        {
          "output_type": "execute_result",
          "data": {
            "text/plain": [
              "int"
            ]
          },
          "metadata": {},
          "execution_count": 8
        }
      ]
    },
    {
      "cell_type": "code",
      "source": [
        "y = 1.0\n",
        "type (y)"
      ],
      "metadata": {
        "colab": {
          "base_uri": "https://localhost:8080/"
        },
        "id": "r30qwQ7tvcsr",
        "outputId": "26d09620-66ee-4e9e-93e8-baf3a7bf14ca"
      },
      "execution_count": null,
      "outputs": [
        {
          "output_type": "execute_result",
          "data": {
            "text/plain": [
              "float"
            ]
          },
          "metadata": {},
          "execution_count": 9
        }
      ]
    },
    {
      "cell_type": "code",
      "source": [
        "x = float (x)\n",
        "x"
      ],
      "metadata": {
        "colab": {
          "base_uri": "https://localhost:8080/"
        },
        "id": "jsEPHBb2vouL",
        "outputId": "c71e8cca-8f14-47bf-bfbf-07117666e385"
      },
      "execution_count": null,
      "outputs": [
        {
          "output_type": "execute_result",
          "data": {
            "text/plain": [
              "1.0"
            ]
          },
          "metadata": {},
          "execution_count": 12
        }
      ]
    },
    {
      "cell_type": "code",
      "source": [
        "s,t,u = \"0\" , '1' , 'one'\n",
        "type (s)"
      ],
      "metadata": {
        "id": "-L8BNLmawo0N"
      },
      "execution_count": null,
      "outputs": []
    },
    {
      "cell_type": "code",
      "source": [
        "s_int = int (s)\n",
        "s_int"
      ],
      "metadata": {
        "id": "wFOQSV9_xcBT"
      },
      "execution_count": null,
      "outputs": []
    },
    {
      "cell_type": "markdown",
      "source": [
        "# Operations"
      ],
      "metadata": {
        "id": "cYlfKnbGyAIw"
      }
    },
    {
      "cell_type": "markdown",
      "source": [
        "### Arithmetic"
      ],
      "metadata": {
        "id": "NfZrGz2jyI8a"
      }
    },
    {
      "cell_type": "code",
      "source": [
        "a,b,c,d = 6, 12, 28, 23"
      ],
      "metadata": {
        "id": "ZoTtytA5yP1k"
      },
      "execution_count": null,
      "outputs": []
    },
    {
      "cell_type": "code",
      "source": [
        "### Adddition\n",
        "S = b+c\n",
        "S"
      ],
      "metadata": {
        "id": "8IQXGuctybNF"
      },
      "execution_count": null,
      "outputs": []
    },
    {
      "cell_type": "code",
      "source": [
        "### Subtraction\n",
        "D = a-b\n",
        "D"
      ],
      "metadata": {
        "id": "rYvFPSOZzdbt"
      },
      "execution_count": null,
      "outputs": []
    },
    {
      "cell_type": "code",
      "source": [
        "### Multiplication\n",
        "P = b*c\n",
        "P"
      ],
      "metadata": {
        "id": "jiMMdHZSzlH4"
      },
      "execution_count": null,
      "outputs": []
    },
    {
      "cell_type": "code",
      "source": [
        "### Division\n",
        "Q = c/d\n",
        "Q"
      ],
      "metadata": {
        "id": "AN0l9Iwuzw_C"
      },
      "execution_count": null,
      "outputs": []
    },
    {
      "cell_type": "code",
      "source": [
        "### Floor Division\n",
        "Fq = b//a\n",
        "Fq"
      ],
      "metadata": {
        "id": "kAzDxSjy0AbS"
      },
      "execution_count": null,
      "outputs": []
    },
    {
      "cell_type": "code",
      "source": [
        "### Exponentiation\n",
        "E = c**d\n",
        "E"
      ],
      "metadata": {
        "id": "Lk2mUfwX0Ulq"
      },
      "execution_count": null,
      "outputs": []
    },
    {
      "cell_type": "code",
      "source": [
        "### Modulo\n",
        "mod = d%b\n",
        "mod"
      ],
      "metadata": {
        "id": "9k-GaG470_G0"
      },
      "execution_count": null,
      "outputs": []
    },
    {
      "cell_type": "markdown",
      "source": [
        "### Assignment Operations"
      ],
      "metadata": {
        "id": "EdXwhp1a1f1p"
      }
    },
    {
      "cell_type": "code",
      "source": [
        "G, H, J, K = 4, 19, 52, 60"
      ],
      "metadata": {
        "id": "z9XEA1a_1lkQ"
      },
      "execution_count": null,
      "outputs": []
    },
    {
      "cell_type": "code",
      "source": [
        "G += k\n",
        "G"
      ],
      "metadata": {
        "id": "ksg6uZ7L1zPS"
      },
      "execution_count": null,
      "outputs": []
    },
    {
      "cell_type": "code",
      "source": [
        "H -= k\n",
        "H"
      ],
      "metadata": {
        "id": "FnIs8j_m2ize"
      },
      "execution_count": null,
      "outputs": []
    },
    {
      "cell_type": "code",
      "source": [
        "J *= 4\n",
        "J"
      ],
      "metadata": {
        "colab": {
          "base_uri": "https://localhost:8080/"
        },
        "id": "cukEifh22xE_",
        "outputId": "efa18dce-d583-417b-9efe-aefcb4b052d4"
      },
      "execution_count": null,
      "outputs": [
        {
          "output_type": "execute_result",
          "data": {
            "text/plain": [
              "208"
            ]
          },
          "metadata": {},
          "execution_count": 54
        }
      ]
    },
    {
      "cell_type": "code",
      "source": [
        "K **= 4\n",
        "K"
      ],
      "metadata": {
        "id": "ZGznLOe122Et"
      },
      "execution_count": null,
      "outputs": []
    },
    {
      "cell_type": "markdown",
      "source": [
        "### Comparators"
      ],
      "metadata": {
        "id": "nQ-l1P1a3dg8"
      }
    },
    {
      "cell_type": "code",
      "source": [
        "res_1, res_2, res_3 = 1,2.0,\"1\"\n",
        "true_val = 1.0"
      ],
      "metadata": {
        "id": "-uTiABo63gKo"
      },
      "execution_count": null,
      "outputs": []
    },
    {
      "cell_type": "code",
      "source": [
        "## Equality\n",
        "res_1 == true_val"
      ],
      "metadata": {
        "id": "vVgS0xNH3tVF"
      },
      "execution_count": null,
      "outputs": []
    },
    {
      "cell_type": "code",
      "source": [
        "## Non-equality\n",
        "res_2 != true_val"
      ],
      "metadata": {
        "id": "LuECrVx635S9"
      },
      "execution_count": null,
      "outputs": []
    },
    {
      "cell_type": "code",
      "source": [
        "## Inequality\n",
        "t1 = res_1 > res_2\n",
        "t2 = res_1 < res_2/2\n",
        "t3 = res_1 >= res_2/2\n",
        "t4 = res_1 <= res_2\n",
        "t3"
      ],
      "metadata": {
        "id": "PLBW_S1e4UaY"
      },
      "execution_count": null,
      "outputs": []
    },
    {
      "cell_type": "markdown",
      "source": [
        "### Logical"
      ],
      "metadata": {
        "id": "vT5O4t7T5IZ6"
      }
    },
    {
      "cell_type": "code",
      "source": [
        "res_1 == true_val"
      ],
      "metadata": {
        "id": "V4Sq2Q9i5LYs"
      },
      "execution_count": null,
      "outputs": []
    },
    {
      "cell_type": "code",
      "source": [
        "res_1 is true_val"
      ],
      "metadata": {
        "id": "3QyJ6WF55cF4"
      },
      "execution_count": null,
      "outputs": []
    },
    {
      "cell_type": "code",
      "source": [
        "res_1 is not true_val"
      ],
      "metadata": {
        "id": "pnsQK2ws5gbA"
      },
      "execution_count": null,
      "outputs": []
    },
    {
      "cell_type": "code",
      "source": [
        "p, q = True, False\n",
        "conj = p and q \n",
        "conj"
      ],
      "metadata": {
        "id": "7KAEaHtf5kgx"
      },
      "execution_count": null,
      "outputs": []
    },
    {
      "cell_type": "code",
      "source": [
        "p, q = True, False\n",
        "disj = p and q \n",
        "disj"
      ],
      "metadata": {
        "id": "zR2-BcuM57n-"
      },
      "execution_count": null,
      "outputs": []
    },
    {
      "cell_type": "code",
      "source": [
        "p, q = True, False\n",
        "nand = not(p and q)\n",
        "nand"
      ],
      "metadata": {
        "id": "mme5EwLL7HRh"
      },
      "execution_count": null,
      "outputs": []
    },
    {
      "cell_type": "code",
      "source": [
        "p, q = True, False\n",
        "e = not (p and q)\n",
        "e"
      ],
      "metadata": {
        "id": "fDO4NOJH7id1"
      },
      "execution_count": null,
      "outputs": []
    },
    {
      "cell_type": "code",
      "source": [
        "p, q = True, False\n",
        "xor = not (p)\n",
        "xor"
      ],
      "metadata": {
        "id": "Pj8YeC9777a8"
      },
      "execution_count": null,
      "outputs": []
    },
    {
      "cell_type": "markdown",
      "source": [
        "### I/O"
      ],
      "metadata": {
        "id": "98y56x8g7zUW"
      }
    },
    {
      "cell_type": "code",
      "source": [
        "print(\"Hello Marites\")"
      ],
      "metadata": {
        "colab": {
          "base_uri": "https://localhost:8080/"
        },
        "id": "k--UdXlY70mA",
        "outputId": "64a36744-0ed3-4c7b-e9be-2f47d63c10fc"
      },
      "execution_count": null,
      "outputs": [
        {
          "output_type": "stream",
          "name": "stdout",
          "text": [
            "Hello Marites\n"
          ]
        }
      ]
    },
    {
      "cell_type": "code",
      "source": [
        "cnt = 1"
      ],
      "metadata": {
        "id": "RidQYCdO8M8B"
      },
      "execution_count": null,
      "outputs": []
    },
    {
      "cell_type": "code",
      "source": [
        "string = \"Hello Marites\"\n",
        "print(string, \", Current run count is:\", cnt)\n",
        "cnt += 1"
      ],
      "metadata": {
        "id": "FHt1siYq8PuA"
      },
      "execution_count": null,
      "outputs": []
    },
    {
      "cell_type": "code",
      "source": [
        "print(f\"{string}, Current count is: {cnt}\")"
      ],
      "metadata": {
        "id": "DudhfY_m85dk"
      },
      "execution_count": null,
      "outputs": []
    },
    {
      "cell_type": "code",
      "source": [
        "sem_grade = 95.652546\n",
        "name = \"bowie\"\n",
        "print(\"Hello {}, your semestral grade is: {}\".format(name, sem_grade))"
      ],
      "metadata": {
        "id": "6H0XBoH79bRm",
        "colab": {
          "base_uri": "https://localhost:8080/"
        },
        "outputId": "469518b6-3c4e-4aff-9df1-dae65bef2750"
      },
      "execution_count": null,
      "outputs": [
        {
          "output_type": "stream",
          "name": "stdout",
          "text": [
            "Hello bowie, your semestral grade is: 95.652546\n"
          ]
        }
      ]
    },
    {
      "cell_type": "code",
      "source": [
        "w_pg, w_mg, w_fg = 0.3, 0.3, 0.4\n",
        "print(\"The weight of your semestral grades are:\\\n",
        "\\n\\t{:.2%} for Prelims\\\n",
        "\\n\\t{:.2%} for Midterms, and\\\n",
        "\\n\\t{:.2%} for Finals.\".format(w_pg, w_mg, w_fg))"
      ],
      "metadata": {
        "id": "y-_ayWl_tfna"
      },
      "execution_count": null,
      "outputs": []
    },
    {
      "cell_type": "code",
      "source": [
        "x = input(\"enter a number\")\n",
        "x"
      ],
      "metadata": {
        "id": "sJilIkL3ueW9"
      },
      "execution_count": null,
      "outputs": []
    },
    {
      "cell_type": "code",
      "source": [
        "name = input(\"Kimi no nawa: \")\n",
        "pg = input(\"Enter prelim grade: \")\n",
        "mg = input(\"Enter midterm grade: \")\n",
        "fg = input(\"Enter final grade: \")\n",
        "sem_grade = None\n",
        "print(\"Hello {}, your semestral grade is: {}\".format(name, sem_grade))"
      ],
      "metadata": {
        "id": "TqRToOUkuuPv"
      },
      "execution_count": null,
      "outputs": []
    },
    {
      "cell_type": "markdown",
      "source": [
        "##Looping Statements"
      ],
      "metadata": {
        "id": "sN5JZqrRv2TU"
      }
    },
    {
      "cell_type": "markdown",
      "source": [
        "###While"
      ],
      "metadata": {
        "id": "BcS4gG8rv9pd"
      }
    },
    {
      "cell_type": "code",
      "source": [
        "## white loops\n",
        "i, j = 0, 12\n",
        "while(i<=j):\n",
        "  print(f\"{i}\\t|\\t{j}\")\n",
        "  i+=1"
      ],
      "metadata": {
        "id": "losfDWw0wBRK"
      },
      "execution_count": null,
      "outputs": []
    },
    {
      "cell_type": "markdown",
      "source": [
        "### For"
      ],
      "metadata": {
        "id": "tk_hVl5xwtqW"
      }
    },
    {
      "cell_type": "code",
      "source": [
        "#for(int i=0: i<10, i++){\n",
        "    #printf(i)\n",
        "    #}\n",
        "\n",
        "i = 0\n",
        "for i in range(11):\n",
        "  print(i)"
      ],
      "metadata": {
        "id": "1U6Blil9wvoM"
      },
      "execution_count": null,
      "outputs": []
    },
    {
      "cell_type": "code",
      "source": [
        "playlist = [\"Rose\", \"Dad\", \"Si Fueras Mia\"]\n",
        "print('Now Playing:\\n')\n",
        "for song in playlist:\n",
        "  print(song)"
      ],
      "metadata": {
        "id": "_GHFFyGAyHHQ"
      },
      "execution_count": null,
      "outputs": []
    },
    {
      "cell_type": "markdown",
      "source": [
        "#Flow Control"
      ],
      "metadata": {
        "id": "5JpfR4KNyzf2"
      }
    },
    {
      "cell_type": "markdown",
      "source": [
        "## Condition Statements"
      ],
      "metadata": {
        "id": "E1KpBKD6y1j0"
      }
    },
    {
      "cell_type": "code",
      "source": [
        "numeral1, numeral2 = 14, 12\n",
        "if(numeral1 == numeral2):\n",
        "  print(\"Yehet\")\n",
        "elif(numeral1>numeral2):\n",
        "  print(\"Ohorat\")\n",
        "else:\n",
        "      print(\"Ohh\")"
      ],
      "metadata": {
        "id": "XOKIfll3y3s9"
      },
      "execution_count": null,
      "outputs": []
    },
    {
      "cell_type": "markdown",
      "source": [
        "## Functions"
      ],
      "metadata": {
        "id": "Gjecmcum1eEC"
      }
    },
    {
      "cell_type": "code",
      "source": [
        "# void DeleteUser(int userid){\n",
        "# delete(userid);\n",
        "# }\n",
        "\n",
        "def delete_user(userid):\n",
        "  print(\"Succesfully deleted user: {}\".format(userid))\n",
        "\n",
        "def delete_all_users():\n",
        "  print(\"100 Days My Prince\")"
      ],
      "metadata": {
        "id": "MVcBZPo91hVl"
      },
      "execution_count": null,
      "outputs": []
    },
    {
      "cell_type": "code",
      "source": [
        "userid = \"Bowie\"\n",
        "delete_user(\"Bowie\")\n",
        "delete_all_users()"
      ],
      "metadata": {
        "id": "RYBAip3s2PTH"
      },
      "execution_count": null,
      "outputs": []
    },
    {
      "cell_type": "code",
      "source": [
        "def add(addend1, addend2):\n",
        "  return addend1 + addend2\n",
        "\n",
        "def power_of_base2(exponent):\n",
        "  return 2**exponent"
      ],
      "metadata": {
        "id": "EiL03Vnc2swy"
      },
      "execution_count": null,
      "outputs": []
    },
    {
      "cell_type": "code",
      "source": [
        "addend1, addend2 = 12, 23\n",
        "add(addend1, addend2)\n",
        "\n",
        "exponent = 6\n",
        "power_of_base2(exponent)"
      ],
      "metadata": {
        "id": "5WAwGZFd3omc"
      },
      "execution_count": null,
      "outputs": []
    },
    {
      "cell_type": "markdown",
      "source": [
        "### Grade Calculator"
      ],
      "metadata": {
        "id": "UVctTcPmGR6D"
      }
    },
    {
      "cell_type": "code",
      "source": [
        "w_pg, w_mg, w_fg = 0.3, 0.3, 0.4\n",
        "Name = input(\"Enter your name:\")\n",
        "Course = input (\"Enter your course: \")\n",
        "pg = float (input (\"Enter Prelim Grade: \"))\n",
        "mg = float (input (\"Enter Midterm Grade: \"))\n",
        "fg = float (input (\"Enter Final Grade: \"))\n",
        "sem_grade = (pg*w_pg)+(mg*w_mg)+(fg*w_fg)\n",
        "print (\"Hello {}, from {}, your semestral grade for this subject is: {}\". format(Name, Course, round(sem_grade, 2)))\n",
        "if(sem_grade >70.00):\n",
        "  print(\"\\U0001F600\")\n",
        "elif(sem_grade == 70.00):\n",
        "  print(\"\\U0001F606\")\n",
        "else:\n",
        "  print(\"\\U0001F62D\")"
      ],
      "metadata": {
        "id": "j6zGWXzgGXrl"
      },
      "execution_count": null,
      "outputs": []
    }
  ]
}